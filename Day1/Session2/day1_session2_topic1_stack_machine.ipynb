{
  "cells": [
    {
      "cell_type": "markdown",
      "id": "d8fa0960",
      "metadata": {
        "id": "d8fa0960"
      },
      "source": []
    },
    {
      "cell_type": "markdown",
      "id": "c66ae0dc",
      "metadata": {
        "id": "c66ae0dc"
      },
      "source": [
        "Session 2 - Topic 1\n",
        "===================\n",
        "Bytecode, dis module, Stack Machine Architecture - DEEP DIVE\n"
      ]
    },
    {
      "cell_type": "markdown",
      "id": "0c7281a5",
      "metadata": {
        "id": "0c7281a5"
      },
      "source": []
    },
    {
      "cell_type": "markdown",
      "id": "01df0895",
      "metadata": {
        "id": "01df0895"
      },
      "source": [
        "\n",
        "# =====================================\n",
        "# 1. Why Python uses a Stack Machine\n",
        "# =====================================\n"
      ]
    },
    {
      "cell_type": "markdown",
      "id": "37b27892",
      "metadata": {
        "id": "37b27892"
      },
      "source": []
    },
    {
      "cell_type": "markdown",
      "id": "ad97e541",
      "metadata": {
        "id": "ad97e541"
      },
      "source": [
        "- Simplicity: Stack machines are easier to implement compared to register machines.\n",
        "- Portability: No assumptions about CPU register layout; everything pushes/pops from virtual stack.\n",
        "- Matching recursive structure: Python functions and expressions naturally map to stack operations.\n",
        "- Historical: First interpreters (Forth, Java VM, Python) all preferred stack models for simplicity.\n",
        "\n",
        "In CPython:\n",
        "    - Each opcode operates on the value stack (`f_valuestack` inside PyFrameObject)\n",
        "    - No registers. Stack-based manipulation means instructions are very compact.\n"
      ]
    },
    {
      "cell_type": "markdown",
      "id": "a388dc4d",
      "metadata": {
        "id": "a388dc4d"
      },
      "source": []
    },
    {
      "cell_type": "markdown",
      "id": "559edfcc",
      "metadata": {
        "id": "559edfcc"
      },
      "source": [
        "\n",
        "# =====================================\n",
        "# 2. Basic Structure of Python Bytecode\n",
        "# =====================================\n"
      ]
    },
    {
      "cell_type": "markdown",
      "id": "795fdfff",
      "metadata": {
        "id": "795fdfff"
      },
      "source": []
    },
    {
      "cell_type": "markdown",
      "id": "1be8254d",
      "metadata": {
        "id": "1be8254d"
      },
      "source": [
        "Python 3.6+ uses a \"wordcode\" format:\n",
        "    - 1 byte for opcode\n",
        "    - 1 byte for oparg (optional argument)\n",
        "    (Earlier Python versions used a different layout)\n",
        "\n",
        "Internally:\n",
        "    - The eval loop reads 2 bytes at a time: opcode + oparg\n",
        "    - EXTENDED_ARG is used to form 32-bit arguments if needed\n",
        "\n",
        "Disassembling reveals this structure neatly.\n"
      ]
    },
    {
      "cell_type": "markdown",
      "id": "a1bd8af4",
      "metadata": {
        "id": "a1bd8af4"
      },
      "source": []
    },
    {
      "cell_type": "code",
      "execution_count": null,
      "id": "0d2b656f",
      "metadata": {
        "id": "0d2b656f"
      },
      "outputs": [],
      "source": [
        "\n",
        "import dis\n",
        "import sys\n",
        "\n",
        "# Example function to disassemble\n",
        "def sample_function(x, y):\n",
        "    return (x + 1) * y\n",
        "\n",
        "# Inspect code object\n",
        "print(dis.code_info(sample_function))\n",
        "\n",
        "# Disassemble using dis\n",
        "print(\"\\nDisassembly of sample_function:\")\n",
        "dis.dis(sample_function)\n",
        "\n",
        "# =====================================\n",
        "# 3. Using the dis Module Properly\n",
        "# =====================================\n"
      ]
    },
    {
      "cell_type": "markdown",
      "id": "bf5c7d88",
      "metadata": {
        "id": "bf5c7d88"
      },
      "source": []
    },
    {
      "cell_type": "markdown",
      "id": "630f841b",
      "metadata": {
        "id": "630f841b"
      },
      "source": [
        "Useful dis functions:\n",
        "- dis.dis(obj)          : Pretty disassembly to stdout\n",
        "- dis.Bytecode(obj)     : Iterable Bytecode object\n",
        "- dis.stack_effect(op, arg) : Predicts stack effect of an opcode\n",
        "\n",
        "Every instruction (`Instruction`) object has:\n",
        "- opname: mnemonic (e.g., 'LOAD_FAST')\n",
        "- opcode: integer value\n",
        "- arg: argument integer (may be None)\n",
        "- argval: resolved argument (constant value, variable name)\n",
        "- is_jump_target: bool\n"
      ]
    },
    {
      "cell_type": "markdown",
      "id": "45c2c633",
      "metadata": {
        "id": "45c2c633"
      },
      "source": []
    },
    {
      "cell_type": "code",
      "execution_count": null,
      "id": "d7534056",
      "metadata": {
        "id": "d7534056"
      },
      "outputs": [],
      "source": [
        "\n",
        "print(\"\\nDetailed dis.Bytecode output:\")\n",
        "for instr in dis.Bytecode(sample_function):\n",
        "    print(instr)\n",
        "\n",
        "# =====================================\n",
        "# 4. Understanding Stack Behavior\n",
        "# =====================================\n"
      ]
    },
    {
      "cell_type": "markdown",
      "id": "c593516a",
      "metadata": {
        "id": "c593516a"
      },
      "source": []
    },
    {
      "cell_type": "code",
      "execution_count": null,
      "id": "3f862406",
      "metadata": {
        "id": "3f862406"
      },
      "outputs": [],
      "source": [
        "#Python's evaluation pushes/pops operands to/from a virtual stack.\n",
        "\n",
        "#Example:\n",
        "#    - LOAD_FAST x   → push x onto stack\n",
        "#    - LOAD_CONST 1  → push 1 onto stack\n",
        "#    - BINARY_ADD    → pop 2 values, add, push result\n",
        "#    - LOAD_FAST y   → push y\n",
        "#    - BINARY_MULTIPLY → pop 2 values, multiply, push result\n",
        "#    - RETURN_VALUE → pop return value\n",
        "\n",
        "# Use dis.stack_effect() to predict stack depth changes.\n"
      ]
    },
    {
      "cell_type": "markdown",
      "id": "0bd426b6",
      "metadata": {
        "id": "0bd426b6"
      },
      "source": []
    },
    {
      "cell_type": "code",
      "execution_count": null,
      "id": "87208cf3",
      "metadata": {
        "id": "87208cf3"
      },
      "outputs": [],
      "source": [
        "\n",
        "print(\"\\nStack Effects of Each Instruction:\")\n",
        "depth = 0\n",
        "max_depth = 0\n",
        "for instr in dis.Bytecode(sample_function):\n",
        "    effect = dis.stack_effect(instr.opcode, instr.arg)\n",
        "    depth += effect\n",
        "    max_depth = max(max_depth, depth)\n",
        "    print(f\"{instr.opname:<20} stack_effect={effect:+} depth_now={depth}\")\n",
        "print(f\"Maximum stack depth during execution: {max_depth}\")\n",
        "\n",
        "# =====================================\n",
        "# 5. Internals: CPython Source Snippets\n",
        "# =====================================\n"
      ]
    },
    {
      "cell_type": "markdown",
      "id": "5224305d",
      "metadata": {
        "id": "5224305d"
      },
      "source": []
    },
    {
      "cell_type": "markdown",
      "id": "bf8e63d5",
      "metadata": {
        "id": "bf8e63d5"
      },
      "source": [
        "![image.png](data:image/png;base64,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)\n"
      ]
    },
    {
      "cell_type": "markdown",
      "id": "a2f75aad",
      "metadata": {
        "id": "a2f75aad"
      },
      "source": []
    },
    {
      "cell_type": "code",
      "execution_count": null,
      "id": "efa7d36d",
      "metadata": {
        "id": "efa7d36d"
      },
      "outputs": [],
      "source": [
        "\n",
        "# =====================================\n",
        "# 6. When Disassembly Matters (and When It Doesn't)\n",
        "# =====================================\n"
      ]
    },
    {
      "cell_type": "markdown",
      "id": "4c4ffafa",
      "metadata": {
        "id": "4c4ffafa"
      },
      "source": []
    },
    {
      "cell_type": "markdown",
      "id": "bdb7c325",
      "metadata": {
        "id": "bdb7c325"
      },
      "source": [
        "- Matters:\n",
        "    - When diagnosing slow paths (e.g., attribute lookup, globals access)\n",
        "    - When tuning critical loops (e.g., choosing generator vs list comp)\n",
        "    - When reverse engineering code behavior without source\n",
        "\n",
        "- Doesn't Matter:\n",
        "    - For general readability or maintainability — prefer clean Python code first.\n",
        "    - For minor performance differences outside hot loops.\n"
      ]
    },
    {
      "cell_type": "code",
      "execution_count": 1,
      "id": "fsMEmPIWLT6f",
      "metadata": {
        "colab": {
          "base_uri": "https://localhost:8080/"
        },
        "id": "fsMEmPIWLT6f",
        "outputId": "9b6af488-8efd-4426-e7ac-b29ca2b76225"
      },
      "outputs": [
        {
          "output_type": "stream",
          "name": "stdout",
          "text": [
            "Disassembly of slow_access:\n",
            "  8           0 RESUME                   0\n",
            "\n",
            "  9           2 LOAD_FAST                0 (obj)\n",
            "              4 LOAD_ATTR                0 (value)\n",
            "             14 LOAD_FAST                0 (obj)\n",
            "             16 LOAD_ATTR                0 (value)\n",
            "             26 BINARY_OP                0 (+)\n",
            "             30 LOAD_FAST                0 (obj)\n",
            "             32 LOAD_ATTR                0 (value)\n",
            "             42 BINARY_OP                0 (+)\n",
            "             46 RETURN_VALUE\n",
            "\n",
            "Disassembly of fast_access:\n",
            " 12           0 RESUME                   0\n",
            "\n",
            " 13           2 LOAD_FAST                0 (obj)\n",
            "              4 LOAD_ATTR                0 (value)\n",
            "             14 STORE_FAST               1 (v)\n",
            "\n",
            " 14          16 LOAD_FAST                1 (v)\n",
            "             18 LOAD_FAST                1 (v)\n",
            "             20 BINARY_OP                0 (+)\n",
            "             24 LOAD_FAST                1 (v)\n",
            "             26 BINARY_OP                0 (+)\n",
            "             30 RETURN_VALUE\n"
          ]
        }
      ],
      "source": [
        "import dis\n",
        "\n",
        "# --- Slower version: Repeated attribute lookup ---\n",
        "class MyClass:\n",
        "    def __init__(self):\n",
        "        self.value = 42\n",
        "\n",
        "def slow_access(obj):\n",
        "    return obj.value + obj.value + obj.value\n",
        "\n",
        "# --- Faster version: Cache attribute in local ---\n",
        "def fast_access(obj):\n",
        "    v = obj.value  # cached lookup\n",
        "    return v + v + v\n",
        "\n",
        "# Disassemble both versions\n",
        "print(\"Disassembly of slow_access:\")\n",
        "dis.dis(slow_access)\n",
        "\n",
        "print(\"\\nDisassembly of fast_access:\")\n",
        "dis.dis(fast_access)\n",
        "\n",
        "# --------------------------------------------\n",
        "# EXPLANATION:\n",
        "#\n",
        "# In slow_access:\n",
        "#   - LOAD_ATTR appears 3 times (one for each obj.value access)\n",
        "#   - Each LOAD_ATTR does a dynamic attribute lookup at runtime\n",
        "#     which checks instance dict, class dict, and descriptor logic.\n",
        "#\n",
        "# In fast_access:\n",
        "#   - Only 1 LOAD_ATTR (obj.value)\n",
        "#   - The result is stored in a local variable (v)\n",
        "#   - Later additions just use LOAD_FAST on v (cheap local access)\n",
        "#\n",
        "# ⚡ Caching attributes to locals avoids repeated resolution and\n",
        "#    improves performance in tight loops or performance-critical code.\n",
        "# --------------------------------------------\n"
      ]
    },
    {
      "cell_type": "markdown",
      "id": "024faa4b",
      "metadata": {
        "id": "024faa4b"
      },
      "source": []
    },
    {
      "cell_type": "markdown",
      "id": "f2c5d2a9",
      "metadata": {
        "id": "f2c5d2a9"
      },
      "source": [
        "\n",
        "# ===========================\n",
        "# END OF TOPIC 1\n",
        "# ===========================\n",
        "\n"
      ]
    }
  ],
  "metadata": {
    "colab": {
      "provenance": []
    },
    "kernelspec": {
      "display_name": "Python 3",
      "name": "python3"
    },
    "language_info": {
      "name": "python"
    }
  },
  "nbformat": 4,
  "nbformat_minor": 5
}
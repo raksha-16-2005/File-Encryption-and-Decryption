{
  "cells": [
    {
      "cell_type": "markdown",
      "id": "90d6cb6f",
      "metadata": {
        "id": "90d6cb6f"
      },
      "source": [
        "# Python's Stack Machine Architecture: A Deep Dive\n",
        "\n",
        "This notebook explores Python's stack machine architecture, focusing on how Python bytecode is executed. We'll use the `dis` module to inspect bytecode and understand stack behavior."
      ]
    },
    {
      "cell_type": "markdown",
      "id": "4a54f1d1",
      "metadata": {
        "id": "4a54f1d1"
      },
      "source": [
        "## 1. What is a Stack Machine?\n",
        "\n",
        "- A stack machine is a type of computer architecture that uses a stack data structure to perform operations.\n",
        "- Unlike register-based machines, stack machines manipulate data directly on a stack.\n",
        "- **Stack:** A Last-In, First-Out (LIFO) structure.\n",
        "\n",
        "```\n",
        "+-------+  <- Top of Stack\n",
        "|  Data  |\n",
        "|  Data  |\n",
        "|  Data  |\n",
        "+-------+  <- Bottom of Stack\n",
        "```"
      ]
    },
    {
      "cell_type": "markdown",
      "id": "81994e6b",
      "metadata": {
        "id": "81994e6b"
      },
      "source": [
        "## 2. Python's Stack Machine\n",
        "\n",
        "- CPython uses a stack machine architecture for executing bytecode.\n",
        "- Python code is compiled into bytecode instructions that operate on a stack.\n",
        "- The CPython interpreter processes these instructions using an evaluation loop."
      ]
    },
    {
      "cell_type": "markdown",
      "id": "086c80e2",
      "metadata": {
        "id": "086c80e2"
      },
      "source": [
        "## 3. Bytecode and Instructions\n",
        "\n",
        "Examples:\n",
        "- `LOAD_FAST`: Push a local variable.\n",
        "- `LOAD_CONST`: Push a constant.\n",
        "- `BINARY_ADD`: Pop two, add, and push result.\n",
        "- `BINARY_MULTIPLY`: Pop two, multiply, and push result.\n",
        "- `RETURN_VALUE`: Pop and return the top value.\n",
        "\n",
        "Simplified Bytecode Structure:\n",
        "```\n",
        "+--------+--------+\n",
        "| Opcode | Oparg  |\n",
        "+--------+--------+\n",
        "  (1 byte) (1 byte)\n",
        "```"
      ]
    },
    {
      "cell_type": "markdown",
      "id": "f2af37e9",
      "metadata": {
        "id": "f2af37e9"
      },
      "source": [
        "## 4. Example: `(x + 1) * y`\n",
        "### 4.1. Python Code"
      ]
    },
    {
      "cell_type": "code",
      "execution_count": null,
      "id": "ddfeeedf",
      "metadata": {
        "id": "ddfeeedf"
      },
      "outputs": [],
      "source": [
        "def sample_function(x, y):\n",
        "    return (x + 1) * y"
      ]
    },
    {
      "cell_type": "markdown",
      "id": "95895c8f",
      "metadata": {
        "id": "95895c8f"
      },
      "source": [
        "### 4.2. Bytecode Disassembly"
      ]
    },
    {
      "cell_type": "code",
      "execution_count": null,
      "id": "c357d440",
      "metadata": {
        "colab": {
          "base_uri": "https://localhost:8080/"
        },
        "id": "c357d440",
        "outputId": "6e8db559-db4b-499a-a588-6e90d4ad06fb"
      },
      "outputs": [
        {
          "output_type": "stream",
          "name": "stdout",
          "text": [
            "  1           0 RESUME                   0\n",
            "\n",
            "  2           2 LOAD_FAST                0 (x)\n",
            "              4 LOAD_CONST               1 (1)\n",
            "              6 BINARY_OP                0 (+)\n",
            "             10 LOAD_FAST                1 (y)\n",
            "             12 BINARY_OP                5 (*)\n",
            "             16 RETURN_VALUE\n"
          ]
        }
      ],
      "source": [
        "import dis\n",
        "dis.dis(sample_function)"
      ]
    },
    {
      "cell_type": "markdown",
      "id": "68b9423f",
      "metadata": {
        "id": "68b9423f"
      },
      "source": [
        "### 4.3. Bytecode Explanation\n",
        "\n",
        "```\n",
        "  2           0 LOAD_FAST                0 (x)\n",
        "              2 LOAD_CONST               1 (1)\n",
        "              4 BINARY_ADD\n",
        "              6 LOAD_FAST                1 (y)\n",
        "              8 BINARY_MULTIPLY\n",
        "             10 RETURN_VALUE\n",
        "```\n",
        "\n",
        "- `LOAD_FAST 0 (x)`: Push `x` onto the stack.\n",
        "- `LOAD_CONST 1 (1)`: Push constant `1`.\n",
        "- `BINARY_ADD`: Pop `x` and `1`, add, push `x + 1`.\n",
        "- `LOAD_FAST 1 (y)`: Push `y`.\n",
        "- `BINARY_MULTIPLY`: Pop `(x + 1)` and `y`, multiply, push `(x + 1) * y`.\n",
        "- `RETURN_VALUE`: Pop and return the result."
      ]
    },
    {
      "cell_type": "markdown",
      "id": "7398842a",
      "metadata": {
        "id": "7398842a"
      },
      "source": [
        "### 4.4. Stack Diagram Evolution\n",
        "- Initially: `[]`\n",
        "- After `LOAD_FAST x`: `[x]`\n",
        "- After `LOAD_CONST 1`: `[x, 1]`\n",
        "- After `BINARY_ADD`: `[x + 1]`\n",
        "- After `LOAD_FAST y`: `[x + 1, y]`\n",
        "- After `BINARY_MULTIPLY`: `[(x + 1) * y]`\n",
        "- After `RETURN_VALUE`: `[]`"
      ]
    },
    {
      "cell_type": "markdown",
      "id": "0a31ba2d",
      "metadata": {
        "id": "0a31ba2d"
      },
      "source": [
        "## 5. Deeper Dive with `dis.Bytecode`"
      ]
    },
    {
      "cell_type": "code",
      "execution_count": null,
      "id": "2362d8db",
      "metadata": {
        "colab": {
          "base_uri": "https://localhost:8080/"
        },
        "id": "2362d8db",
        "outputId": "7f51dd7f-ce57-4265-f244-1aeb00312f92"
      },
      "outputs": [
        {
          "output_type": "stream",
          "name": "stdout",
          "text": [
            "Instruction(opname='RESUME', opcode=151, arg=0, argval=0, argrepr='', offset=0, starts_line=1, is_jump_target=False, positions=Positions(lineno=1, end_lineno=1, col_offset=0, end_col_offset=0))\n",
            "Instruction(opname='LOAD_FAST', opcode=124, arg=0, argval='x', argrepr='x', offset=2, starts_line=2, is_jump_target=False, positions=Positions(lineno=2, end_lineno=2, col_offset=12, end_col_offset=13))\n",
            "Instruction(opname='LOAD_CONST', opcode=100, arg=1, argval=1, argrepr='1', offset=4, starts_line=None, is_jump_target=False, positions=Positions(lineno=2, end_lineno=2, col_offset=16, end_col_offset=17))\n",
            "Instruction(opname='BINARY_OP', opcode=122, arg=0, argval=0, argrepr='+', offset=6, starts_line=None, is_jump_target=False, positions=Positions(lineno=2, end_lineno=2, col_offset=12, end_col_offset=17))\n",
            "Instruction(opname='LOAD_FAST', opcode=124, arg=1, argval='y', argrepr='y', offset=10, starts_line=None, is_jump_target=False, positions=Positions(lineno=2, end_lineno=2, col_offset=21, end_col_offset=22))\n",
            "Instruction(opname='BINARY_OP', opcode=122, arg=5, argval=5, argrepr='*', offset=12, starts_line=None, is_jump_target=False, positions=Positions(lineno=2, end_lineno=2, col_offset=11, end_col_offset=22))\n",
            "Instruction(opname='RETURN_VALUE', opcode=83, arg=None, argval=None, argrepr='', offset=16, starts_line=None, is_jump_target=False, positions=Positions(lineno=2, end_lineno=2, col_offset=4, end_col_offset=22))\n"
          ]
        }
      ],
      "source": [
        "for instr in dis.Bytecode(sample_function):\n",
        "    print(instr)"
      ]
    },
    {
      "cell_type": "markdown",
      "id": "7c1dcc44",
      "metadata": {
        "id": "7c1dcc44"
      },
      "source": [
        "## 6. Stack Effect Analysis"
      ]
    },
    {
      "cell_type": "code",
      "execution_count": null,
      "id": "8c139c8d",
      "metadata": {
        "colab": {
          "base_uri": "https://localhost:8080/"
        },
        "id": "8c139c8d",
        "outputId": "4b86a5ed-e683-4cf1-b968-97e9137ffa27"
      },
      "outputs": [
        {
          "output_type": "stream",
          "name": "stdout",
          "text": [
            "RESUME               stack_effect=+0 depth_now= 0\n",
            "LOAD_FAST            stack_effect=+1 depth_now= 1\n",
            "LOAD_CONST           stack_effect=+1 depth_now= 2\n",
            "BINARY_OP            stack_effect=-1 depth_now= 1\n",
            "LOAD_FAST            stack_effect=+1 depth_now= 2\n",
            "BINARY_OP            stack_effect=-1 depth_now= 1\n",
            "RETURN_VALUE         stack_effect=-1 depth_now= 0\n",
            "Maximum stack depth during execution: 2\n"
          ]
        }
      ],
      "source": [
        "depth = 0\n",
        "max_depth = 0\n",
        "for instr in dis.Bytecode(sample_function):\n",
        "    effect = dis.stack_effect(instr.opcode, instr.arg)\n",
        "    depth += effect\n",
        "    max_depth = max(max_depth, depth)\n",
        "    print(f\"{instr.opname:<20} stack_effect={effect:+2} depth_now={depth:2}\")\n",
        "print(f\"Maximum stack depth during execution: {max_depth}\")"
      ]
    },
    {
      "cell_type": "markdown",
      "id": "5fd7ab42",
      "metadata": {
        "id": "5fd7ab42"
      },
      "source": [
        "## 7. Why Understand Stack Machine Architecture?\n",
        "- **Performance Tuning:** Understand cost of operations.\n",
        "- **Debugging:** Helpful for reverse engineering compiled code.\n",
        "- **CPython Internals:** Crucial for deep diving into Python internals."
      ]
    },
    {
      "cell_type": "markdown",
      "id": "8c8281fc",
      "metadata": {
        "id": "8c8281fc"
      },
      "source": [
        "## 8. Optimization (Simple Examples)\n",
        "- **Minimize Attribute/Global Lookups:** Use locals when possible.\n",
        "- **Local Variables Are Fast:** `LOAD_FAST` is quicker than `LOAD_GLOBAL`.\n",
        "- **Function Call Overhead:** Inlining small functions can help sometimes.\n",
        "- **List Comprehensions/Generators:** Generators save memory.\n",
        "\n",
        "**Caveat:** Focus on readability first!"
      ]
    },
    {
      "cell_type": "markdown",
      "id": "2bc8d3f1",
      "metadata": {
        "id": "2bc8d3f1"
      },
      "source": [
        "### 8.1. Example: Local vs. Global"
      ]
    },
    {
      "cell_type": "code",
      "execution_count": null,
      "id": "8ff805a9",
      "metadata": {
        "colab": {
          "base_uri": "https://localhost:8080/"
        },
        "id": "8ff805a9",
        "outputId": "978a1a48-5a98-42e7-fd7c-e5d3018ca9b6"
      },
      "outputs": [
        {
          "output_type": "stream",
          "name": "stdout",
          "text": [
            "use_local: 0.0371 sec\n",
            "use_global: 0.0355 sec\n",
            "\n",
            "use_local disassembly:\n",
            "  5           0 RESUME                   0\n",
            "\n",
            "  6           2 LOAD_GLOBAL              0 (GLOBAL_VAR)\n",
            "             14 STORE_FAST               0 (local_var)\n",
            "\n",
            "  7          16 LOAD_GLOBAL              3 (NULL + range)\n",
            "             28 LOAD_CONST               1 (1000000)\n",
            "             30 PRECALL                  1\n",
            "             34 CALL                     1\n",
            "             44 GET_ITER\n",
            "        >>   46 FOR_ITER                 7 (to 62)\n",
            "             48 STORE_FAST               1 (_)\n",
            "\n",
            "  8          50 LOAD_FAST                0 (local_var)\n",
            "             52 LOAD_CONST               2 (2)\n",
            "             54 BINARY_OP                5 (*)\n",
            "             58 STORE_FAST               2 (result)\n",
            "             60 JUMP_BACKWARD            8 (to 46)\n",
            "\n",
            "  9     >>   62 LOAD_FAST                2 (result)\n",
            "             64 RETURN_VALUE\n",
            "\n",
            "use_global disassembly:\n",
            " 11           0 RESUME                   0\n",
            "\n",
            " 12           2 LOAD_GLOBAL              1 (NULL + range)\n",
            "             14 LOAD_CONST               1 (1000000)\n",
            "             16 PRECALL                  1\n",
            "             20 CALL                     1\n",
            "             30 GET_ITER\n",
            "        >>   32 FOR_ITER                12 (to 58)\n",
            "             34 STORE_FAST               0 (_)\n",
            "\n",
            " 13          36 LOAD_GLOBAL              2 (GLOBAL_VAR)\n",
            "             48 LOAD_CONST               2 (2)\n",
            "             50 BINARY_OP                5 (*)\n",
            "             54 STORE_FAST               1 (result)\n",
            "             56 JUMP_BACKWARD           13 (to 32)\n",
            "\n",
            " 14     >>   58 LOAD_FAST                1 (result)\n",
            "             60 RETURN_VALUE\n"
          ]
        }
      ],
      "source": [
        "import time\n",
        "\n",
        "GLOBAL_VAR = 10\n",
        "\n",
        "def use_local():\n",
        "    local_var = GLOBAL_VAR\n",
        "    for _ in range(1000000):\n",
        "        result = local_var * 2\n",
        "    return result\n",
        "\n",
        "def use_global():\n",
        "    for _ in range(1000000):\n",
        "        result = GLOBAL_VAR * 2\n",
        "    return result\n",
        "\n",
        "# Timing\n",
        "start = time.time()\n",
        "use_local()\n",
        "end = time.time()\n",
        "print(f\"use_local: {end - start:.4f} sec\")\n",
        "\n",
        "start = time.time()\n",
        "use_global()\n",
        "end = time.time()\n",
        "print(f\"use_global: {end - start:.4f} sec\")\n",
        "\n",
        "# Disassembly\n",
        "print(\"\\nuse_local disassembly:\")\n",
        "dis.dis(use_local)\n",
        "\n",
        "print(\"\\nuse_global disassembly:\")\n",
        "dis.dis(use_global)"
      ]
    },
    {
      "cell_type": "markdown",
      "id": "3b3d6763",
      "metadata": {
        "id": "3b3d6763"
      },
      "source": [
        "### 8.3. Example: List Comprehension vs. Loop"
      ]
    },
    {
      "cell_type": "code",
      "execution_count": 1,
      "id": "e03115c3",
      "metadata": {
        "colab": {
          "base_uri": "https://localhost:8080/"
        },
        "id": "e03115c3",
        "outputId": "f4c85341-c27f-422d-d415-90913f562e90"
      },
      "outputs": [
        {
          "output_type": "stream",
          "name": "stdout",
          "text": [
            "List comprehension: 63.5134 sec\n",
            "For loop:           61.6090 sec\n",
            "Memory (list comp): 8448728 bytes\n",
            "Memory (for loop):  8448728 bytes\n",
            "\n",
            "Disassembly: list_comp\n",
            "  6           0 RESUME                   0\n",
            "\n",
            "  7           2 LOAD_CONST               1 (<code object <listcomp> at 0x7f6061d03430, file \"<ipython-input-1-ca3d9d844839>\", line 7>)\n",
            "              4 MAKE_FUNCTION            0\n",
            "              6 LOAD_GLOBAL              1 (NULL + range)\n",
            "             18 LOAD_CONST               2 (1000000)\n",
            "             20 PRECALL                  1\n",
            "             24 CALL                     1\n",
            "             34 GET_ITER\n",
            "             36 PRECALL                  0\n",
            "             40 CALL                     0\n",
            "             50 RETURN_VALUE\n",
            "\n",
            "Disassembly of <code object <listcomp> at 0x7f6061d03430, file \"<ipython-input-1-ca3d9d844839>\", line 7>:\n",
            "  7           0 RESUME                   0\n",
            "              2 BUILD_LIST               0\n",
            "              4 LOAD_FAST                0 (.0)\n",
            "        >>    6 FOR_ITER                 7 (to 22)\n",
            "              8 STORE_FAST               1 (x)\n",
            "             10 LOAD_FAST                1 (x)\n",
            "             12 LOAD_CONST               0 (2)\n",
            "             14 BINARY_OP                5 (*)\n",
            "             18 LIST_APPEND              2\n",
            "             20 JUMP_BACKWARD            8 (to 6)\n",
            "        >>   22 RETURN_VALUE\n",
            "\n",
            "Disassembly: for_loop\n",
            " 10           0 RESUME                   0\n",
            "\n",
            " 11           2 BUILD_LIST               0\n",
            "              4 STORE_FAST               0 (result)\n",
            "\n",
            " 12           6 LOAD_GLOBAL              1 (NULL + range)\n",
            "             18 LOAD_CONST               1 (1000000)\n",
            "             20 PRECALL                  1\n",
            "             24 CALL                     1\n",
            "             34 GET_ITER\n",
            "        >>   36 FOR_ITER                26 (to 90)\n",
            "             38 STORE_FAST               1 (x)\n",
            "\n",
            " 13          40 LOAD_FAST                0 (result)\n",
            "             42 LOAD_METHOD              1 (append)\n",
            "             64 LOAD_FAST                1 (x)\n",
            "             66 LOAD_CONST               2 (2)\n",
            "             68 BINARY_OP                5 (*)\n",
            "             72 PRECALL                  1\n",
            "             76 CALL                     1\n",
            "             86 POP_TOP\n",
            "             88 JUMP_BACKWARD           27 (to 36)\n",
            "\n",
            " 14     >>   90 LOAD_FAST                0 (result)\n",
            "             92 RETURN_VALUE\n"
          ]
        }
      ],
      "source": [
        "import dis\n",
        "import timeit\n",
        "import sys\n",
        "\n",
        "# --- List comprehension version ---\n",
        "def list_comp():\n",
        "    return [x * 2 for x in range(1000000)]\n",
        "\n",
        "# --- For loop version ---\n",
        "def for_loop():\n",
        "    result = []\n",
        "    for x in range(1000000):\n",
        "        result.append(x * 2)\n",
        "    return result\n",
        "\n",
        "# --- Time each function ---\n",
        "time_lc = timeit.timeit(\"list_comp()\", globals=globals(), number=1000)\n",
        "time_fl = timeit.timeit(\"for_loop()\", globals=globals(), number=1000)\n",
        "\n",
        "print(f\"List comprehension: {time_lc:.4f} sec\")\n",
        "print(f\"For loop:           {time_fl:.4f} sec\")\n",
        "\n",
        "# --- Memory usage ---\n",
        "lc = list_comp()\n",
        "fl = for_loop()\n",
        "\n",
        "print(f\"Memory (list comp): {sys.getsizeof(lc)} bytes\")\n",
        "print(f\"Memory (for loop):  {sys.getsizeof(fl)} bytes\")\n",
        "\n",
        "# --- Disassemble to show bytecode difference ---\n",
        "print(\"\\nDisassembly: list_comp\")\n",
        "dis.dis(list_comp)\n",
        "\n",
        "print(\"\\nDisassembly: for_loop\")\n",
        "dis.dis(for_loop)\n",
        "\n",
        "# -----------------------------\n",
        "# 📌 Comments on performance:\n",
        "#\n",
        "# 1. In list_comp:\n",
        "#    - Uses LIST_APPEND: a fast, specialized opcode for adding to lists.\n",
        "#    - Avoids method lookups like `list.append`.\n",
        "#    - Compiled into an internal code object (<listcomp>) which avoids scope pollution.\n",
        "#\n",
        "# 2. In for_loop:\n",
        "#    - Uses LOAD_METHOD, CALL, and POP_TOP to call `append()`.\n",
        "#    - These are heavier due to dynamic method resolution and stack operations.\n",
        "#\n",
        "# 3. Memory:\n",
        "#    - Both return the same list type, but list comprehension avoids extra local references\n",
        "#      and intermediate method objects, making it slightly more memory efficient.\n",
        "#\n",
        "# 🔍 Overall:\n",
        "#    - List comprehensions are faster due to lower overhead at the bytecode level.\n",
        "#    - They are also slightly more memory efficient for large transformations.\n",
        "# -----------------------------\n"
      ]
    },
    {
      "cell_type": "markdown",
      "id": "70b39deb",
      "metadata": {
        "id": "70b39deb"
      },
      "source": [
        "## 9. Conclusion\n",
        "\n",
        "Understanding Python’s stack machine deepens your understanding of Python internals, performance tuning, and low-level debugging. But always remember: clarity and readability come first in writing Python code."
      ]
    }
  ],
  "metadata": {
    "colab": {
      "provenance": []
    },
    "language_info": {
      "name": "python"
    },
    "kernelspec": {
      "name": "python3",
      "display_name": "Python 3"
    }
  },
  "nbformat": 4,
  "nbformat_minor": 5
}
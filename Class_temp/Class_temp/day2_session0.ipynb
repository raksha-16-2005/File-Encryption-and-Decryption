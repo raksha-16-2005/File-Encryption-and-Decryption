{
  "nbformat": 4,
  "nbformat_minor": 0,
  "metadata": {
    "colab": {
      "provenance": []
    },
    "kernelspec": {
      "name": "python3",
      "display_name": "Python 3"
    },
    "language_info": {
      "name": "python"
    }
  },
  "cells": [
    {
      "cell_type": "markdown",
      "source": [
        "✅  **Multiple inheritance.**\n",
        "\n",
        "This means that a class can inherit from **more than one parent class**, and thereby **inherit methods and attributes from all of them**.\n",
        "\n",
        "---\n",
        "\n",
        "## 🔍 What is Multiple Inheritance?\n",
        "\n",
        "In object-oriented programming, **multiple inheritance** allows a class to be derived from **two or more base classes**.\n",
        "\n",
        "### Example:\n",
        "\n",
        "```python\n",
        "class A:\n",
        "    def method_a(self):\n",
        "        print(\"Method from class A\")\n",
        "\n",
        "class B:\n",
        "    def method_b(self):\n",
        "        print(\"Method from class B\")\n",
        "\n",
        "class C(A, B):\n",
        "    pass\n",
        "\n",
        "# Create an instance of C\n",
        "obj = C()\n",
        "obj.method_a()  # Output: Method from class A\n",
        "obj.method_b()  # Output: Method from class B\n",
        "```\n",
        "\n",
        "Here, class `C` inherits from both `A` and `B`.\n",
        "\n",
        "---\n",
        "\n",
        "## 🧠 How Does Python Resolve Method Calls? (The MRO)\n",
        "\n",
        "When you use multiple inheritance, Python uses the **Method Resolution Order (MRO)** to decide which implementation of a method to call — especially when multiple parent classes define the same method.\n",
        "\n",
        "You can view the MRO using the built-in `mro()` method or the `__mro__` attribute.\n",
        "\n",
        "### Example with conflict:\n",
        "\n",
        "```python\n",
        "class A:\n",
        "    def greet(self):\n",
        "        print(\"Hello from A\")\n",
        "\n",
        "class B:\n",
        "    def greet(self):\n",
        "        print(\"Hello from B\")\n",
        "\n",
        "class C(A, B):\n",
        "    pass\n",
        "\n",
        "obj = C()\n",
        "obj.greet()  # Which greet() gets called?\n",
        "```\n",
        "\n",
        "### Output:\n",
        "```\n",
        "Hello from A\n",
        "```\n",
        "\n",
        "Because in `class C(A, B)`, `A` comes before `B`, its `greet()` is used.\n",
        "\n",
        "You can check the order:\n",
        "\n",
        "```python\n",
        "print(C.mro())\n",
        "# Output:\n",
        "# [<class 'C'>, <class 'A'>, <class 'B'>, <class 'object'>]\n",
        "```\n",
        "\n",
        "Python uses the **C3 linearization algorithm** to determine this order in a consistent and predictable way.\n",
        "\n",
        "---\n",
        "\n",
        "## 🔄 Advanced Example: Mixing Functionality via Multiple Inheritance\n",
        "\n",
        "Multiple inheritance is often used to **mix in reusable components** (like \"traits\" or \"mixins\").\n",
        "\n",
        "```python\n",
        "class Flyable:\n",
        "    def fly(self):\n",
        "        print(\"Flying...\")\n",
        "\n",
        "class Swimmable:\n",
        "    def swim(self):\n",
        "        print(\"Swimming...\")\n",
        "\n",
        "class Duck(Flyable, Swimmable):\n",
        "    pass\n",
        "\n",
        "d = Duck()\n",
        "d.fly()   # Flying...\n",
        "d.swim()  # Swimming...\n",
        "```\n",
        "\n",
        "This makes it easy to compose behaviors without deep hierarchies.\n",
        "\n",
        "---\n",
        "\n",
        "## ⚠️ Caveats & Best Practices\n",
        "\n",
        "- Multiple inheritance can get complex if not used carefully.\n",
        "- Avoid **the diamond problem** unless you understand how Python resolves it.\n",
        "- Use it for **composing orthogonal behaviors** (e.g., logging + serialization + validation), not just to reuse code arbitrarily.\n",
        "- Prefer **composition over inheritance** in many cases.\n",
        "\n",
        "---\n",
        "\n",
        "## ✅ Summary\n",
        "\n",
        "| Feature | Supported in Python? |\n",
        "|--------|-----------------------|\n",
        "| Multiple inheritance | ✅ Yes |\n",
        "| Method Resolution Order (MRO) | ✅ Yes (via C3 linearization) |\n",
        "| Diamond inheritance | ✅ Handled gracefully |\n",
        "| Calling methods from specific parent | ✅ Using `super()` or direct calls |\n",
        "\n",
        "---\n",
        "\n"
      ],
      "metadata": {
        "id": "3YJ-Pp5TgXXE"
      }
    },
    {
      "cell_type": "code",
      "source": [
        "class Engine:\n",
        "    def __init__(self, bhp, length, weight):\n",
        "        self.bhp = bhp\n",
        "        self.length = length\n",
        "        self.weight = weight\n",
        "\n",
        "    def start(self):\n",
        "        print(\"Engine started\")\n",
        "\n",
        "    def stop(self):\n",
        "        print(\"Engine stopped\")\n",
        "\n",
        "class Brake:\n",
        "    def __init__(self, type):\n",
        "        self.type = type\n",
        "\n",
        "    def press(self):\n",
        "        print(\"Brake pressed\")\n",
        "\n",
        "    def release(self):\n",
        "        print(\"Brake released\")\n",
        "\n",
        "class Car(Engine, Brake):\n",
        "    def __init__(self, color, model, price, is_insured, bhp, length, weight, type):\n",
        "        Engine.__init__(self, bhp, length, weight)\n",
        "        Brake.__init__(self, type)\n",
        "        self.color = color\n",
        "        self.model = model\n",
        "        self.price = price\n",
        "        self.is_insured = is_insured\n",
        "\n",
        "    def show_properties(self):\n",
        "        print(\"Model:\", self.model)\n",
        "        print(\"Color:\", self.color)\n",
        "        print(\"Price:\", self.price)\n",
        "        print(\"Is Insured:\", \"Yes\" if self.is_insured else \"No\")\n",
        "        print(\"Brake Type:\", self.type)\n",
        "        print(\"Engine BHP:\", self.bhp)\n",
        "        print(\"Engine Length:\", self.length)\n",
        "        print(\"Engine Weight:\", self.weight)\n",
        "\n",
        "car1 = Car(\"Red\", \"Sedan\", 25000, True, 120, 2.0, 1100, \"Disc\")\n",
        "\n",
        "car2 = Car(\"Blue\", \"SUV\", 35000, False, 180, 2.5, 1300, \"Drum\")\n",
        "\n",
        "print(\"Car 1 Details:\")\n",
        "car1.show_properties()\n",
        "print()\n",
        "print(\"Car 2 Details:\")\n",
        "car2.show_properties()\n"
      ],
      "metadata": {
        "id": "celAgFPQxWLp",
        "outputId": "e0b0e6ae-447c-48c5-a112-1be252a90c4d",
        "colab": {
          "base_uri": "https://localhost:8080/"
        }
      },
      "execution_count": 13,
      "outputs": [
        {
          "output_type": "stream",
          "name": "stdout",
          "text": [
            "Car 1 Details:\n",
            "Model: Sedan\n",
            "Color: Red\n",
            "Price: 25000\n",
            "Is Insured: Yes\n",
            "Brake Type: Disc\n",
            "Engine BHP: 120\n",
            "Engine Length: 2.0\n",
            "Engine Weight: 1100\n",
            "\n",
            "Car 2 Details:\n",
            "Model: SUV\n",
            "Color: Blue\n",
            "Price: 35000\n",
            "Is Insured: No\n",
            "Brake Type: Drum\n",
            "Engine BHP: 180\n",
            "Engine Length: 2.5\n",
            "Engine Weight: 1300\n"
          ]
        }
      ]
    },
    {
      "cell_type": "code",
      "execution_count": null,
      "metadata": {
        "colab": {
          "base_uri": "https://localhost:8080/"
        },
        "id": "xBOzWrsLfrQI",
        "outputId": "02a64ffc-e1c4-421b-8e2a-0d0f05215e21"
      },
      "outputs": [
        {
          "output_type": "stream",
          "name": "stdout",
          "text": [
            "Method from class A\n",
            "Method from class B\n"
          ]
        }
      ],
      "source": [
        "class A:\n",
        "    def method_a(self):\n",
        "        print(\"Method from class A\")\n",
        "\n",
        "class B:\n",
        "    def method_b(self):\n",
        "        print(\"Method from class B\")\n",
        "\n",
        "class C(A, B):\n",
        "    pass\n",
        "\n",
        "# Create an instance of C\n",
        "obj = C()\n",
        "obj.method_a()  # Output: Method from class A\n",
        "obj.method_b()  # Output: Method from class B"
      ]
    },
    {
      "cell_type": "code",
      "source": [
        "class A:\n",
        "    def greet(self):\n",
        "        print(\"Hello from A\")\n",
        "\n",
        "class B:\n",
        "    def greet(self):\n",
        "        print(\"Hello from B\")\n",
        "\n",
        "class C(A, B):\n",
        "    pass\n",
        "\n",
        "obj = C()\n",
        "obj.greet()  # Which greet() gets called?\n",
        "print(C.mro())\n",
        "# Output:\n",
        "# [<class 'C'>, <class 'A'>, <class 'B'>, <class 'object'>]"
      ],
      "metadata": {
        "colab": {
          "base_uri": "https://localhost:8080/"
        },
        "id": "yDfmeFO4hJCW",
        "outputId": "48101440-0f89-414b-9777-ebf2e760a720"
      },
      "execution_count": null,
      "outputs": [
        {
          "output_type": "stream",
          "name": "stdout",
          "text": [
            "Hello from A\n",
            "[<class '__main__.C'>, <class '__main__.A'>, <class '__main__.B'>, <class 'object'>]\n"
          ]
        }
      ]
    },
    {
      "cell_type": "code",
      "source": [
        "\n",
        "\n",
        "class A:\n",
        "    def greet(self):\n",
        "        print(\"Hello from A\")\n",
        "\n",
        "class B(A):\n",
        "   def greet(self):\n",
        "    print(\"Hello from B\")\n",
        "\n",
        "\n",
        "class C(A):\n",
        "    def greet(self):\n",
        "        print(\"Hello from C\")\n",
        "\n",
        "class D(B, C):\n",
        "    pass\n",
        "\n",
        "obj = D()\n",
        "obj.greet()  # Output will depend on the MRO.  In CPython, it's \"Hello from B\"\n",
        "print(D.mro())\n"
      ],
      "metadata": {
        "colab": {
          "base_uri": "https://localhost:8080/"
        },
        "id": "EIgY6p73hoMl",
        "outputId": "2f53045a-454a-4874-f0e9-21e6fc4eb8f8"
      },
      "execution_count": null,
      "outputs": [
        {
          "output_type": "stream",
          "name": "stdout",
          "text": [
            "Hello from C\n",
            "[<class '__main__.D'>, <class '__main__.B'>, <class '__main__.C'>, <class '__main__.A'>, <class 'object'>]\n"
          ]
        }
      ]
    },
    {
      "cell_type": "code",
      "source": [
        "class Flyable:\n",
        "    def fly(self):\n",
        "        print(\"Flying...\")\n",
        "\n",
        "class Swimmable:\n",
        "    def swim(self):\n",
        "        print(\"Swimming...\")\n",
        "\n",
        "class Duck(Flyable, Swimmable):\n",
        "    pass\n",
        "\n",
        "d = Duck()\n",
        "d.fly()   # Flying...\n",
        "d.swim()  # Swimming..."
      ],
      "metadata": {
        "colab": {
          "base_uri": "https://localhost:8080/"
        },
        "id": "viu6zVWGiDjE",
        "outputId": "90bf12aa-3130-4c0c-986c-81d10d350946"
      },
      "execution_count": null,
      "outputs": [
        {
          "output_type": "stream",
          "name": "stdout",
          "text": [
            "Flying...\n",
            "Swimming...\n"
          ]
        }
      ]
    },
    {
      "cell_type": "markdown",
      "source": [
        "\n",
        "---\n",
        "\n",
        "## 🧱 What is Composition?\n",
        "\n",
        "**Composition** is a design principle where instead of a class **inheriting behavior**, it **contains instances of other classes** (or objects) that implement the needed functionality.\n",
        "\n",
        "> 💡 Think of it like building with Lego blocks: instead of saying \"My object *is-a* something\", you say \"My object *has-a* something\".\n",
        "\n",
        "---\n",
        "\n",
        "## ✅ Simple Example: A Car Composed of Parts\n",
        "\n",
        "```python\n",
        "class Engine:\n",
        "    def start(self):\n",
        "        print(\"Engine started\")\n",
        "\n",
        "    def stop(self):\n",
        "        print(\"Engine stopped\")\n",
        "\n",
        "\n",
        "class Wheels:\n",
        "    def rotate(self):\n",
        "        print(\"Wheels are rotating\")\n",
        "\n",
        "\n",
        "class Car:\n",
        "    def __init__(self):\n",
        "        self.engine = Engine()\n",
        "        self.wheels = Wheels()\n",
        "\n",
        "    def drive(self):\n",
        "        self.engine.start()\n",
        "        self.wheels.rotate()\n",
        "        print(\"Car is driving\")\n",
        "\n",
        "    def park(self):\n",
        "        self.engine.stop()\n",
        "        print(\"Car parked\")\n",
        "\n",
        "\n",
        "# Usage\n",
        "my_car = Car()\n",
        "my_car.drive()\n",
        "my_car.park()\n",
        "```\n",
        "\n",
        "### Output:\n",
        "```\n",
        "Engine started\n",
        "Wheels are rotating\n",
        "Car is driving\n",
        "Engine stopped\n",
        "Car parked\n",
        "```\n",
        "\n",
        "---\n",
        "\n",
        "\n",
        "```\n",
        "\n",
        "This shows how **composition allows us to plug in different implementations easily**, even ones with different interfaces."
      ],
      "metadata": {
        "id": "feEugMTGidnz"
      }
    },
    {
      "cell_type": "code",
      "source": [],
      "metadata": {
        "id": "y6wQYvaxjHZa"
      },
      "execution_count": null,
      "outputs": []
    },
    {
      "cell_type": "markdown",
      "source": [
        "\n",
        "\n",
        "## 🧱 What is an Abstract Class?\n",
        "\n",
        "An **abstract class** is a class that:\n",
        "- Cannot be instantiated directly.\n",
        "- May contain **abstract methods**, which are **required to be implemented by subclasses**.\n",
        "- Defines a **common interface** for a group of related classes.\n",
        "\n",
        "In Python, abstract classes are created using the `ABC` base class and the `@abstractmethod` decorator from the `abc` module.\n",
        "\n",
        "---\n",
        "\n",
        "## ✅ Example: Shape Hierarchy\n",
        "\n",
        "Let’s define an abstract class `Shape`, and then create two concrete subclasses: `Circle` and `Square`.\n",
        "\n",
        "```python\n",
        "from abc import ABC, abstractmethod\n",
        "import math\n",
        "\n",
        "# 🔷 Abstract class\n",
        "class Shape(ABC):\n",
        "    \n",
        "    @abstractmethod\n",
        "    def area(self):\n",
        "        pass\n",
        "\n",
        "    @abstractmethod\n",
        "    def perimeter(self):\n",
        "        pass\n",
        "\n",
        "# 🟢 Concrete subclass\n",
        "class Circle(Shape):\n",
        "    def __init__(self, radius):\n",
        "        self.radius = radius\n",
        "\n",
        "    def area(self):\n",
        "        return math.pi * self.radius ** 2\n",
        "\n",
        "    def perimeter(self):\n",
        "        return 2 * math.pi * self.radius\n",
        "    def nop():\n",
        "      print(\"Adding another method\")\n",
        "\n",
        "# 🔷 Another concrete subclass\n",
        "class Square(Shape):\n",
        "    def __init__(self, side):\n",
        "        self.side = side\n",
        "\n",
        "    def area(self):\n",
        "        return self.side ** 2\n",
        "\n",
        "    def perimeter(self):\n",
        "        return 4 * self.side\n",
        "```\n",
        "\n",
        "### 🔒 Try Instantiating the Abstract Class (Will Fail)\n",
        "\n",
        "```python\n",
        "# shape = Shape()  # ❌ This will raise TypeError\n",
        "```\n",
        "\n",
        "Output:\n",
        "```\n",
        "TypeError: Can't instantiate abstract class Shape with abstract methods area, perimeter\n",
        "```\n",
        "\n",
        "### ✅ Instantiate Subclasses\n",
        "\n",
        "```python\n",
        "circle = Circle(radius=5)\n",
        "print(\"Circle Area:\", circle.area())       # 78.539...\n",
        "print(\"Circle Perimeter:\", circle.perimeter())  # 31.415...\n",
        "\n",
        "square = Square(side=4)\n",
        "print(\"Square Area:\", square.area())           # 16\n",
        "print(\"Square Perimeter:\", square.perimeter()) # 16\n",
        "```\n",
        "\n",
        "---\n",
        "\n",
        "## 🔄 Why Use Abstract Classes?\n",
        "\n",
        "Abstract classes help enforce a **contract** — every subclass must implement certain methods. This helps you:\n",
        "\n",
        "- Design better APIs.\n",
        "- Prevent incomplete implementations.\n",
        "- Enable polymorphism (e.g., looping through a list of `Shape` objects and calling `.area()` on each).\n",
        "\n",
        "---\n",
        "\n"
      ],
      "metadata": {
        "id": "L7oU2A5CjZMw"
      }
    },
    {
      "cell_type": "code",
      "source": [
        "from abc import ABC, abstractmethod\n",
        "import math\n",
        "\n",
        "# 🔷 Abstract class\n",
        "class Shape(ABC):\n",
        "\n",
        "    @abstractmethod\n",
        "    def area(self):\n",
        "        pass\n",
        "\n",
        "    @abstractmethod\n",
        "    def perimeter(self):\n",
        "        pass\n",
        "\n",
        "    def nop():\n",
        "      print(\"Adding another method\")\n",
        "# 🟢 Concrete subclass\n",
        "class Circle(Shape):\n",
        "    def __init__(self, radius):\n",
        "        self.radius = radius\n",
        "\n",
        "    def area(self):\n",
        "        return math.pi * self.radius ** 2\n",
        "\n",
        "    def perimeter(self):\n",
        "        return 2 * math.pi * self.radius\n",
        "\n",
        "# 🔷 Another concrete subclass\n",
        "class Square(Shape):\n",
        "    def __init__(self, side):\n",
        "        self.side = side\n",
        "\n",
        "    def area(self):\n",
        "        return self.side ** 2\n",
        "\n",
        "    def perimeter(self):\n",
        "        return 4 * self.side\n",
        "## shape = Shape()  # ❌ This will raise TypeError\n",
        "circle = Circle(radius=5)\n",
        "print(\"Circle Area:\", circle.area())       # 78.539...\n",
        "print(\"Circle Perimeter:\", circle.perimeter())  # 31.415...\n",
        "\n",
        "square = Square(side=4)\n",
        "print(\"Square Area:\", square.area())           # 16\n",
        "print(\"Square Perimeter:\", square.perimeter()) # 16"
      ],
      "metadata": {
        "colab": {
          "base_uri": "https://localhost:8080/"
        },
        "id": "4cvSqc8Pj6sV",
        "outputId": "bda46e90-9a61-4d34-e767-e92d0d9c7f62"
      },
      "execution_count": null,
      "outputs": [
        {
          "output_type": "stream",
          "name": "stdout",
          "text": [
            "Circle Area: 78.53981633974483\n",
            "Circle Perimeter: 31.41592653589793\n",
            "Square Area: 16\n",
            "Square Perimeter: 16\n"
          ]
        }
      ]
    },
    {
      "cell_type": "code",
      "source": [
        "class wrongSquare(Shape):\n",
        "    def __init__(self, side):\n",
        "        self.side = side\n",
        "\n",
        "    def area(self):\n",
        "        return self.side ** 2\n",
        "# All abstract methods must be overriden\n",
        "W = wrongSquare(side=4)\n",
        "print(W.area())"
      ],
      "metadata": {
        "colab": {
          "base_uri": "https://localhost:8080/",
          "height": 193
        },
        "id": "5dpQkPlEkSpm",
        "outputId": "21e992fc-3f46-4b2f-d868-005a1e6398da"
      },
      "execution_count": null,
      "outputs": [
        {
          "output_type": "error",
          "ename": "TypeError",
          "evalue": "Can't instantiate abstract class wrongSquare with abstract method perimeter",
          "traceback": [
            "\u001b[0;31m---------------------------------------------------------------------------\u001b[0m",
            "\u001b[0;31mTypeError\u001b[0m                                 Traceback (most recent call last)",
            "\u001b[0;32m<ipython-input-13-6c344c72c793>\u001b[0m in \u001b[0;36m<cell line: 0>\u001b[0;34m()\u001b[0m\n\u001b[1;32m      7\u001b[0m \u001b[0;34m\u001b[0m\u001b[0m\n\u001b[1;32m      8\u001b[0m \u001b[0;34m\u001b[0m\u001b[0m\n\u001b[0;32m----> 9\u001b[0;31m \u001b[0mW\u001b[0m \u001b[0;34m=\u001b[0m \u001b[0mwrongSquare\u001b[0m\u001b[0;34m(\u001b[0m\u001b[0mside\u001b[0m\u001b[0;34m=\u001b[0m\u001b[0;36m4\u001b[0m\u001b[0;34m)\u001b[0m\u001b[0;34m\u001b[0m\u001b[0;34m\u001b[0m\u001b[0m\n\u001b[0m\u001b[1;32m     10\u001b[0m \u001b[0mprint\u001b[0m\u001b[0;34m(\u001b[0m\u001b[0mW\u001b[0m\u001b[0;34m.\u001b[0m\u001b[0marea\u001b[0m\u001b[0;34m(\u001b[0m\u001b[0;34m)\u001b[0m\u001b[0;34m)\u001b[0m\u001b[0;34m\u001b[0m\u001b[0;34m\u001b[0m\u001b[0m\n",
            "\u001b[0;31mTypeError\u001b[0m: Can't instantiate abstract class wrongSquare with abstract method perimeter"
          ]
        }
      ]
    },
    {
      "cell_type": "code",
      "source": [
        "## FUN stuff you can call c functions which are compiled as objects in python\n",
        "%%file add.c\n",
        "int add(int a, int b) {\n",
        "    return a + b;\n",
        "}"
      ],
      "metadata": {
        "colab": {
          "base_uri": "https://localhost:8080/"
        },
        "id": "N76ZKTnwlJtc",
        "outputId": "5f3b701e-b907-48fb-f318-845136b27302"
      },
      "execution_count": null,
      "outputs": [
        {
          "output_type": "stream",
          "name": "stdout",
          "text": [
            "Writing add.c\n"
          ]
        }
      ]
    },
    {
      "cell_type": "code",
      "source": [
        "!gcc -shared -o libadd.so -fPIC add.c"
      ],
      "metadata": {
        "id": "yR5y63yilvRw"
      },
      "execution_count": null,
      "outputs": []
    },
    {
      "cell_type": "code",
      "source": [
        "import ctypes\n",
        "\n",
        "lib = ctypes.CDLL('./libadd.so')\n",
        "\n",
        "# Optional: define argument and return types\n",
        "lib.add.argtypes = [ctypes.c_int, ctypes.c_int]\n",
        "lib.add.restype = ctypes.c_int\n",
        "\n",
        "result = lib.add(10, 20)\n",
        "print(\"Add result:\", result)  # Output: 30"
      ],
      "metadata": {
        "colab": {
          "base_uri": "https://localhost:8080/"
        },
        "id": "nbZ0JVzKmIh9",
        "outputId": "cf4629c5-b056-452c-b1dc-e124477c3ce3"
      },
      "execution_count": null,
      "outputs": [
        {
          "output_type": "stream",
          "name": "stdout",
          "text": [
            "Add result: 30\n"
          ]
        }
      ]
    },
    {
      "cell_type": "code",
      "source": [
        "!pip install cython"
      ],
      "metadata": {
        "colab": {
          "base_uri": "https://localhost:8080/"
        },
        "id": "4QoMQNF7mT34",
        "outputId": "38f3b6ed-7010-48cd-8c00-c68bff3e7d78"
      },
      "execution_count": null,
      "outputs": [
        {
          "output_type": "stream",
          "name": "stdout",
          "text": [
            "Requirement already satisfied: cython in /usr/local/lib/python3.11/dist-packages (3.0.12)\n"
          ]
        }
      ]
    },
    {
      "cell_type": "code",
      "source": [
        "%load_ext Cython"
      ],
      "metadata": {
        "id": "TFD4NtOhmfTX"
      },
      "execution_count": null,
      "outputs": []
    },
    {
      "cell_type": "code",
      "source": [
        "%%cython\n",
        "\n",
        "cdef int multiply(int a, int b):\n",
        "    return a * b\n",
        "\n",
        "def py_multiply(int x, int y):\n",
        "    return multiply(x, y)"
      ],
      "metadata": {
        "id": "UMnbV5Drml80"
      },
      "execution_count": null,
      "outputs": []
    },
    {
      "cell_type": "code",
      "source": [
        "print(py_multiply(6, 7))  # Output: 42"
      ],
      "metadata": {
        "colab": {
          "base_uri": "https://localhost:8080/"
        },
        "id": "xs1YZxCmmumA",
        "outputId": "c53e39cc-f22a-4cdd-d0db-57094cfbb597"
      },
      "execution_count": null,
      "outputs": [
        {
          "output_type": "stream",
          "name": "stdout",
          "text": [
            "42\n"
          ]
        }
      ]
    },
    {
      "cell_type": "code",
      "source": [],
      "metadata": {
        "id": "H5hrehppnHGs"
      },
      "execution_count": null,
      "outputs": []
    },
    {
      "cell_type": "markdown",
      "source": [
        "\n",
        "---\n",
        "\n",
        "## 🔍 What is `async`?\n",
        "\n",
        "### ✅ Syntax: `async def function_name():`\n",
        "\n",
        "- The `async` keyword tells Python that this function is a **coroutine**, not a regular function.\n",
        "- A **coroutine** is a special kind of function that can pause its execution and **yield control back to the event loop**, allowing other tasks to run in the meantime.\n",
        "\n",
        "### 🧠 Think of it Like:\n",
        "> \"I might need to wait for something (like a download or file read), so don’t block everything else while I wait.\"\n",
        "\n",
        "### 💡 Example:\n",
        "\n",
        "```python\n",
        "async def download_file(file_id):\n",
        "    print(f\"Start downloading {file_id}\")\n",
        "    await asyncio.sleep(1)\n",
        "    print(f\"Finished downloading {file_id}\")\n",
        "```\n",
        "\n",
        "This function is now an **async coroutine** — you can't just call it like a normal function. You have to **schedule it to run inside an event loop** using tools like `asyncio.run()` or `await`.\n",
        "\n",
        "---\n",
        "\n",
        "## 🔁 What is `await`?\n",
        "\n",
        "### ✅ Syntax: `await <coroutine>`\n",
        "\n",
        "- The `await` keyword **pauses** the execution of the current coroutine until the awaited task finishes.\n",
        "- While paused, the **event loop** is free to go run other coroutines — making your program more efficient.\n",
        "\n",
        "### ⚠️ Important:\n",
        "You can only use `await` **inside an `async def` function**.\n",
        "\n",
        "### 💡 Example:\n",
        "\n",
        "```python\n",
        "await asyncio.sleep(1)\n",
        "```\n",
        "\n",
        "This line says:\n",
        "> “Pause me for 1 second without blocking anything else. Let the event loop do other work.”\n",
        "\n",
        "So while one `download_file()` is waiting, another can start.\n",
        "\n",
        "---\n",
        "\n",
        "## 🔄 Full Example with Comments\n",
        "\n",
        "Let’s look at your full async code again, with inline explanations of `async` and `await`.\n",
        "\n",
        "```python\n",
        "import asyncio\n",
        "import time\n",
        "\n",
        "# ✅ async def: Defines a coroutine (an async function)\n",
        "async def download_file(file_id):\n",
        "    print(f\"Start downloading File {file_id}\")\n",
        "\n",
        "    # 🔄 await asyncio.sleep(1): Simulates waiting for a download\n",
        "    # This gives control back to the event loop, so other tasks can run\n",
        "    await asyncio.sleep(1)\n",
        "\n",
        "    print(f\"Finished downloading File {file_id}\")\n",
        "\n",
        "# ✅ async def main_async: Another coroutine that manages multiple download tasks\n",
        "async def main_async():\n",
        "    # 📦 Create a list of coroutine objects (not executed yet)\n",
        "    tasks = [download_file(i) for i in range(1, 4)]  # 3 files\n",
        "\n",
        "    # ⏱️ await asyncio.gather(*tasks): Run all tasks concurrently\n",
        "    # This starts all download_file() coroutines at once\n",
        "    await asyncio.gather(*tasks)\n",
        "\n",
        "# 🕒 Measure how long the async version takes\n",
        "start = time.time()\n",
        "\n",
        "# 🎯 asyncio.run(main_async()): Starts the event loop and runs the async program\n",
        "# This is how we execute async code from the top level\n",
        "asyncio.run(main_async())\n",
        "\n",
        "end = time.time()\n",
        "print(f\"Asynchronous total time: {end - start:.2f} seconds\")\n",
        "```\n",
        "\n",
        "---\n",
        "\n",
        "## 🧠 Summary Table: `async` vs `await`\n",
        "\n",
        "| Keyword | Purpose | Can Be Used In |\n",
        "|--------|---------|----------------|\n",
        "| `async def` | Declares a coroutine | Anywhere you define a function |\n",
        "| `await` | Pauses coroutine until result is ready | Only inside `async def` functions |\n",
        "\n",
        "---\n",
        "\n",
        "## 🔄 Real-Life Analogy\n",
        "\n",
        "Imagine you're a **waiter in a restaurant**:\n",
        "- You take orders (`async def order(...)`).\n",
        "- When food is not ready, you don’t stand still waiting — you go serve others (`await cook.prepare_food()`).\n",
        "- You come back when the food is ready to continue serving.\n",
        "\n",
        "That’s exactly what `async/await` does — it lets your program **do useful things while waiting** on slow operations like network calls or disk reads.\n",
        "\n",
        "---\n",
        "\n",
        "## ✅ Final Thoughts\n",
        "\n",
        "- Use `async def` for any function that needs to perform non-blocking I/O.\n",
        "- Use `await` to call other coroutines or async-compatible libraries (`aiohttp`, `asyncpg`, etc.).\n",
        "- Always run async code using `asyncio.run()` or similar tools.\n",
        "- In environments like Jupyter, use `nest_asyncio.apply()` to avoid event loop errors.\n",
        "\n"
      ],
      "metadata": {
        "id": "CuhhVdg-nW1O"
      }
    },
    {
      "cell_type": "code",
      "source": [
        "import time\n",
        "\n",
        "def download_file(file_id):\n",
        "    print(f\"Start downloading File {file_id}\")\n",
        "    time.sleep(2)  # Simulate slow download\n",
        "    print(f\"Finished downloading File {file_id}\")\n",
        "\n",
        "def main_sync():\n",
        "    for i in range(1, 4):  # 3 files\n",
        "        download_file(i)\n",
        "\n",
        "# Run sync version\n",
        "start = time.time()\n",
        "main_sync()\n",
        "end = time.time()\n",
        "print(f\"Synchronous total time: {end - start:.2f} seconds\")"
      ],
      "metadata": {
        "colab": {
          "base_uri": "https://localhost:8080/"
        },
        "id": "HmfMGnJbnvsF",
        "outputId": "4a8d8b95-6531-43c0-e9e6-cb6d1886963f"
      },
      "execution_count": null,
      "outputs": [
        {
          "output_type": "stream",
          "name": "stdout",
          "text": [
            "Start downloading File 1\n",
            "Finished downloading File 1\n",
            "Start downloading File 2\n",
            "Finished downloading File 2\n",
            "Start downloading File 3\n",
            "Finished downloading File 3\n",
            "Synchronous total time: 6.00 seconds\n"
          ]
        }
      ]
    },
    {
      "cell_type": "code",
      "source": [
        "# First install nest_asyncio in Colab (only needed once)\n",
        "!pip install nest_asyncio\n",
        "\n",
        "import asyncio\n",
        "import time\n",
        "import nest_asyncio  # 👈 Needed for running async code in notebooks\n",
        "nest_asyncio.apply()  # 🛠️ Apply the patch to support nested loops\n",
        "\n",
        "# ✅ Async function to simulate file download\n",
        "async def download_file(file_id):\n",
        "    print(f\"Start downloading File {file_id}\")\n",
        "    await asyncio.sleep(1)  # ⏱️ Simulate I/O-bound work\n",
        "    print(f\"Finished downloading File {file_id}\")\n",
        "\n",
        "# ✅ Main async controller function\n",
        "async def main_async():\n",
        "    tasks = [download_file(i) for i in range(1, 4)]  # Create 3 download tasks\n",
        "    await asyncio.gather(*tasks)  # Run them concurrently\n",
        "    print(\"All tasks completed\")\n",
        "# 🕒 Measure execution time\n",
        "start = time.time()\n",
        "\n",
        "# 🎯 Run the async code using nest_asyncio-friendly way\n",
        "asyncio.get_event_loop().run_until_complete(main_async())\n",
        "\n",
        "end = time.time()\n",
        "print(f\"Asynchronous total time: {end - start:.2f} seconds\")"
      ],
      "metadata": {
        "colab": {
          "base_uri": "https://localhost:8080/"
        },
        "id": "494-C3NtoANb",
        "outputId": "f0297abb-6634-4303-edb5-e7d1e43565d7"
      },
      "execution_count": null,
      "outputs": [
        {
          "output_type": "stream",
          "name": "stdout",
          "text": [
            "Requirement already satisfied: nest_asyncio in /usr/local/lib/python3.11/dist-packages (1.6.0)\n",
            "All tasks completed\n",
            "Asynchronous total time: 0.01 seconds\n"
          ]
        },
        {
          "output_type": "stream",
          "name": "stderr",
          "text": [
            "/usr/lib/python3.11/asyncio/tasks.py:277: RuntimeWarning: coroutine 'download_file' was never awaited\n",
            "  result = coro.send(None)\n",
            "RuntimeWarning: Enable tracemalloc to get the object allocation traceback\n"
          ]
        }
      ]
    },
    {
      "cell_type": "markdown",
      "source": [
        "                             ┌───────────────────────────────┐\n",
        "                             │        Script starts          │\n",
        "                             └───────────────┬───────────────┘\n",
        "                                             │\n",
        "                                             ▼\n",
        "                             ┌───────────────────────────────┐\n",
        "                             │  start = time.time()          │\n",
        "                             └───────────────┬───────────────┘\n",
        "                                             │\n",
        "                                             ▼\n",
        "                             ┌───────────────────────────────┐\n",
        "                             │ asyncio.run(main_async)       │\n",
        "                             │  ──► *creates the* Event Loop │\n",
        "                             └───────────────┬───────────────┘\n",
        "                                             │\n",
        "                 (inside the event loop)     ▼\n",
        "                   ┌─────────────────────────────────────┐\n",
        "                   │            main_async()             │\n",
        "                   └───────────────┬─────────────────────┘\n",
        "                                   │  build list of 3 coroutines\n",
        "                                   ▼\n",
        "                   ┌─────────────────────────────────────┐\n",
        "                   │      tasks = [download_file(1–3)]   │\n",
        "                   └───────────────┬─────────────────────┘\n",
        "                                   │\n",
        "                                   ▼\n",
        "                   ┌─────────────────────────────────────┐\n",
        "                   │ await asyncio.gather(*tasks)        │\n",
        "                   │  ──► schedules the tasks together   │\n",
        "                   └───────────────┬─────────────────────┘\n",
        "                                   │\n",
        "    ┌──────────────────────────────┴──────────────────────────────┐\n",
        "    │                    Event-loop interleaving                  │\n",
        "    │   ┌──────────────────┐  ┌──────────────────┐  ┌────────────┐│\n",
        "    │   │ download_file(1) │  │ download_file(2) │  │download_file(3)│\n",
        "    │   │ ─ print “Start”  │  │ ─ print “Start”  │  │─ print “Start”│\n",
        "    │   │ ─ await sleep(1) │  │ ─ await sleep(1) │  │─ await sleep(1)│\n",
        "    │   │    (yields)      │  │    (yields)      │  │    (yields)  │\n",
        "    │   │ ─ print “Finish” │  │ ─ print “Finish” │  │─ print “Finish”│\n",
        "    │   └──────────────────┘  └──────────────────┘  └────────────┘│\n",
        "    └──────────────────────────────┬──────────────────────────────┘\n",
        "                                   │  (all complete ≈1 s later)\n",
        "                                   ▼\n",
        "                   ┌─────────────────────────────────────┐\n",
        "                   │    main_async() returns             │\n",
        "                   └───────────────┬─────────────────────┘\n",
        "                                   │  Event loop exits\n",
        "                                   ▼\n",
        "                             ┌───────────────────────────────┐\n",
        "                             │   end = time.time()           │\n",
        "                             │ print elapsed (“Asynchronous…”)│\n",
        "                             └───────────────────────────────┘\n"
      ],
      "metadata": {
        "id": "_QlxNtZEpJpT"
      }
    },
    {
      "cell_type": "markdown",
      "source": [
        "End of Notebook"
      ],
      "metadata": {
        "id": "PC1V_29KpUaY"
      }
    }
  ]
}